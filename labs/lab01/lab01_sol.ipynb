{
 "cells": [
  {
   "cell_type": "markdown",
   "metadata": {},
   "source": [
    "# Automatyczne Uczenie Maszynowe \n",
    "\n",
    "## Laboratorium 1\n",
    "\n",
    "\n",
    "### 1. <i>Uczenie Maszynowe</i>\n",
    "\n",
    "#### Pytania\n",
    "1.1 Z jakich etapów składa się cykl budowy procesu uczenia maszynowego?\n"
   ]
  },
  {
   "cell_type": "code",
   "execution_count": null,
   "metadata": {},
   "outputs": [],
   "source": []
  },
  {
   "cell_type": "markdown",
   "metadata": {},
   "source": [
    "1.2. Jakie znamy:\n",
    "-  modele uczenia maszynowego?\n",
    "-  techniki preprocessingu?\n",
    "-  techniki postprocessingu?\n"
   ]
  },
  {
   "cell_type": "code",
   "execution_count": null,
   "metadata": {},
   "outputs": [],
   "source": []
  },
  {
   "cell_type": "markdown",
   "metadata": {},
   "source": [
    "#### Zadanie \n",
    "1.3. Wykorzystując dane `breast_cancer` (jest dostępny w pakiecie `scikit-learn`) zbuduj 3 rodzaje modeli ML korzystając z biblioteki `scikit-learn`. Pamiętaj o podziale na zbiór treningowy i testowy, lub zastosuj kroswalidację. Zwaliduj otrzymane modele odpowiednią metryką. Zwróć uwagę na potencjalne przeuczenie.\n"
   ]
  },
  {
   "cell_type": "code",
   "execution_count": 1,
   "metadata": {},
   "outputs": [
    {
     "data": {
      "text/plain": [
       "0.956140350877193"
      ]
     },
     "execution_count": 1,
     "metadata": {},
     "output_type": "execute_result"
    }
   ],
   "source": [
    "### Pakiety\n",
    "import pandas as pd\n",
    "import numpy as np\n",
    "\n",
    "### Ładowanie danych\n",
    "from sklearn.datasets import load_breast_cancer\n",
    "\n",
    "data = load_breast_cancer()\n",
    "y = data.target\n",
    "X = pd.DataFrame(data.data)\n",
    "\n",
    "### Budowa modelu\n",
    "from sklearn.model_selection import train_test_split\n",
    "X_train, X_test, y_train, y_test = train_test_split(X, y, test_size=0.2,random_state=123)\n",
    "\n",
    "from sklearn.tree import DecisionTreeClassifier\n",
    "from sklearn.ensemble import RandomForestClassifier\n",
    "from sklearn.svm import SVC\n",
    "from sklearn.linear_model import LogisticRegression\n",
    "\n",
    "Tree = DecisionTreeClassifier()\n",
    "Tree.fit(X_train, y_train)\n",
    "\n",
    "SVC = SVC()\n",
    "SVC.fit(X_train, y_train)\n",
    "\n",
    "\n",
    "### Walidacja\n",
    "y_pred_test_tree = Tree.predict(X_test)\n",
    "y_pred_test_svc = SVC.predict(X_test)\n",
    "\n",
    "\n",
    "from sklearn.metrics import accuracy_score\n",
    "\n",
    "accuracy_score(y_test, y_pred_test_tree)"
   ]
  },
  {
   "cell_type": "markdown",
   "metadata": {},
   "source": [
    "#### Pytania \n",
    "1.4. Czym są parametry modelu a czym hiperparametry? Podaj przykłady występujące we wspomnianych wcześniej algorytmach."
   ]
  },
  {
   "cell_type": "code",
   "execution_count": null,
   "metadata": {},
   "outputs": [],
   "source": []
  }
 ],
 "metadata": {
  "kernelspec": {
   "display_name": "base",
   "language": "python",
   "name": "python3"
  },
  "language_info": {
   "codemirror_mode": {
    "name": "ipython",
    "version": 3
   },
   "file_extension": ".py",
   "mimetype": "text/x-python",
   "name": "python",
   "nbconvert_exporter": "python",
   "pygments_lexer": "ipython3",
   "version": "3.12.7"
  },
  "orig_nbformat": 4
 },
 "nbformat": 4,
 "nbformat_minor": 2
}
