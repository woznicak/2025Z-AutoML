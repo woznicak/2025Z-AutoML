{
 "cells": [
  {
   "cell_type": "markdown",
   "metadata": {},
   "source": [
    "# Automatyczne Uczenie Maszynowe \n",
    "\n",
    "## Laboratorium 1\n",
    "\n",
    "\n",
    "### 1. <i>Uczenie Maszynowe</i>\n",
    "\n",
    "#### Pytania\n",
    "1.1 Z jakich etapów składa się cykl budowy procesu uczenia maszynowego?\n"
   ]
  },
  {
   "cell_type": "code",
   "execution_count": null,
   "metadata": {},
   "outputs": [],
   "source": []
  },
  {
   "cell_type": "markdown",
   "metadata": {},
   "source": [
    "1.2. Jakie znamy:\n",
    "-  modele uczenia maszynowego?\n",
    "-  techniki preprocessingu?\n",
    "-  techniki postprocessingu?\n"
   ]
  },
  {
   "cell_type": "code",
   "execution_count": null,
   "metadata": {},
   "outputs": [],
   "source": []
  },
  {
   "cell_type": "markdown",
   "metadata": {},
   "source": [
    "#### Zadanie \n",
    "1.3. Wykorzystując dane `breast_cancer` (jest dostępny w pakiecie `scikit-learn`) zbuduj 3 rodzaje modeli ML korzystając z biblioteki `scikit-learn`. Pamiętaj o podziale na zbiór treningowy i testowy, lub zastosuj kroswalidację. Zwaliduj otrzymane modele odpowiednią metryką. Zwróć uwagę na potencjalne przeuczenie.\n"
   ]
  },
  {
   "cell_type": "code",
   "execution_count": null,
   "metadata": {},
   "outputs": [],
   "source": [
    "### Pakiety\n",
    "import pandas as pd\n",
    "import numpy as np\n",
    "\n",
    "### Ładowanie danych\n",
    "from sklearn.datasets import load_breast_cancer\n",
    "\n",
    "data = load_breast_cancer()\n",
    "y = data.target\n",
    "X = pd.DataFrame(data.data)\n",
    "\n",
    "### Budowa modelu\n",
    "from sklearn.model_selection import train_test_split\n",
    "\n",
    "\n",
    "### Walidacja\n",
    "\n"
   ]
  },
  {
   "cell_type": "markdown",
   "metadata": {},
   "source": [
    "#### Pytania \n",
    "1.4. Czym są parametry modelu a czym hiperparametry? Podaj przykłady występujące we wspomnianych wcześniej algorytmach."
   ]
  },
  {
   "cell_type": "code",
   "execution_count": null,
   "metadata": {},
   "outputs": [],
   "source": []
  }
 ],
 "metadata": {
  "kernelspec": {
   "display_name": "base",
   "language": "python",
   "name": "python3"
  },
  "language_info": {
   "codemirror_mode": {
    "name": "ipython",
    "version": 3
   },
   "file_extension": ".py",
   "mimetype": "text/x-python",
   "name": "python",
   "nbconvert_exporter": "python",
   "pygments_lexer": "ipython3",
   "version": "3.12.7"
  },
  "orig_nbformat": 4
 },
 "nbformat": 4,
 "nbformat_minor": 2
}
