{
 "cells": [
  {
   "cell_type": "markdown",
   "id": "a3114a7b",
   "metadata": {},
   "source": [
    "### Automatyczne Uczenie Maszynowe \n",
    "#### Laboratorium 5"
   ]
  },
  {
   "cell_type": "markdown",
   "id": "b8d0da45",
   "metadata": {},
   "source": [
    "Pakiet [`Optuna`](https://optuna.readthedocs.io/en/stable/index.html)"
   ]
  },
  {
   "cell_type": "code",
   "execution_count": null,
   "id": "7df64c40",
   "metadata": {},
   "outputs": [],
   "source": [
    "# Installing Optuna, an automatic hyperparameter optimization framework.\n",
    "# !pip install optuna"
   ]
  },
  {
   "cell_type": "code",
   "execution_count": null,
   "id": "d530639b",
   "metadata": {},
   "outputs": [],
   "source": [
    "# Import the core Optuna library\n",
    "import optuna\n",
    "# Import an advanced sampler (Gaussian Process Sampler) to compare with the default TPE sampler\n",
    "from optuna.samplers import GPSampler\n",
    "# Import basic ML components from scikit-learn for the HPO demo\n",
    "from sklearn.datasets import load_iris\n",
    "from sklearn.model_selection import cross_val_score\n",
    "from sklearn.svm import SVC"
   ]
  },
  {
   "cell_type": "markdown",
   "id": "c3c164ad",
   "metadata": {},
   "source": [
    "----\n",
    "####  *Zadanie 1*\n",
    "----\n",
    "\n",
    "Dla wybranych danych (wykonaj wstępny preprocessing) przygotuj *Objective Function*, która będzie wsadem do optymalizacji w Optuna.\n",
    "Wybierz model SVM, w którym będziemy optymalizować parametr *C* oraz *kernel*. \n",
    "\n",
    "(*) Weź pod uwagę inne hiperparametry zależne od wybranego hiperparametru *kernel*."
   ]
  },
  {
   "cell_type": "code",
   "execution_count": null,
   "id": "0cfb1732",
   "metadata": {},
   "outputs": [],
   "source": [
    "# Define the Objective Function\n",
    "# This function takes a `trial` object and returns the score to be optimized.\n",
    "def objective(trial):\n",
    "    \n",
    "    # Load the data \n",
    "    X, y = ...\n",
    "\n",
    "    # === Define the Hyperparameter Search Space ===\n",
    "\n",
    "    # Suggest a value for the C parameter \n",
    "    svc_c = trial.suggest_float(...)\n",
    "\n",
    "    # Suggest a kernel type using categorical sampling\n",
    "    kernel = trial.suggest_categorical(...)\n",
    "    \n",
    "    params = {...}\n",
    "\n",
    "    # === Create model and evaluate it ===\n",
    "    model = ...\n",
    "\n",
    "    # Calculate the cross-validation score (accuracy) across 3 folds\n",
    "    # The mean of the scores is returned for maximization.\n",
    "    score = cross_val_score(model, X, y, n_jobs=-1, cv=3)\n",
    "    accuracy = score.mean()\n",
    "\n",
    "    return accuracy\n",
    "\n"
   ]
  },
  {
   "cell_type": "markdown",
   "id": "0efe5208",
   "metadata": {},
   "source": [
    "----\n",
    "####  *Zadanie 2*\n",
    "----\n",
    "\n",
    "Dla funkcji z *Zadania 1* wykonaj optymalizację:\n",
    "\n",
    "a) używając defaultowego TPE Samplera\n",
    "\n",
    "b) GPSampler (Gaussian Process Sampler)\n",
    "\n",
    "Podaj informację jaka konfiguracja jest najlepsza i jaką osiągnęła wartość miary."
   ]
  },
  {
   "cell_type": "code",
   "execution_count": null,
   "id": "c7842e86",
   "metadata": {},
   "outputs": [],
   "source": [
    "# Create a Study and Run the Optimization using the default TPE Sampler\n",
    "# A \"study\" is an optimization session. `direction=\"maximize\"` specifies that we want to find the highest score.\n",
    "study_tpe = optuna.create_study(...)\n",
    "\n",
    "\n",
    "# Start the optimization. `n_trials` is the total number of parameter combinations (trials) to test.\n",
    "study_tpe.optimize(objective, n_trials=100)\n",
    "\n",
    "# 3. Review the Results from the TPE Sampler\n",
    "print(\"Optimization finished.\")\n",
    "print(f\"Number of finished trials: {len(study_tpe.trials)}\")\n",
    "\n",
    "print(\"Best trial:\")\n",
    "best_trial = ...\n",
    "print(f\"  Value (Accuracy): {best_trial.value:.4f}\")\n",
    "\n",
    "print(\"  Best parameters:\")\n"
   ]
  },
  {
   "cell_type": "code",
   "execution_count": null,
   "id": "2c02c9ab",
   "metadata": {},
   "outputs": [],
   "source": [
    "# Create a study using the Gaussian Process Sampler (GPSampler)\n",
    "\n"
   ]
  },
  {
   "cell_type": "markdown",
   "id": "bc32bfd1",
   "metadata": {},
   "source": [
    "### Pruning (Multi-Fidelity HPO)\n",
    "\n",
    "Pruning automatically stops unpromising trials early based on intermediate results, significantly speeding up the HPO process. The **SuccessiveHalvingPruner** is used here."
   ]
  },
  {
   "cell_type": "code",
   "execution_count": null,
   "id": "dbf7a0f8",
   "metadata": {},
   "outputs": [],
   "source": [
    "import numpy as np\n",
    "from sklearn.linear_model import SGDClassifier\n",
    "from sklearn.model_selection import train_test_split"
   ]
  },
  {
   "cell_type": "code",
   "execution_count": null,
   "id": "a6aec238",
   "metadata": {},
   "outputs": [],
   "source": [
    "# Initialize the Successive Halving Pruner\n",
    "pruner = optuna.pruners.SuccessiveHalvingPruner()\n",
    "\n",
    "# Create a study with the Pruner enabled\n",
    "study_prunned = optuna.create_study(direction=\"maximize\", pruner=pruner)\n"
   ]
  },
  {
   "cell_type": "code",
   "execution_count": null,
   "id": "f09d766e",
   "metadata": {},
   "outputs": [],
   "source": [
    "X, y = load_iris(return_X_y=True)\n",
    "X_train, X_valid, y_train, y_valid = train_test_split(X, y)\n",
    "classes = np.unique(y)\n",
    "\n",
    "def objective(trial):\n",
    "    alpha = trial.suggest_float(\"alpha\", 0.0, 1.0)\n",
    "    clf = SGDClassifier(alpha=alpha)\n",
    "    n_train_iter = 100\n",
    "\n",
    "    for step in range(n_train_iter):\n",
    "        clf.partial_fit(X_train, y_train, classes=classes)\n",
    "\n",
    "        intermediate_value = clf.score(X_valid, y_valid)\n",
    "        trial.report(intermediate_value, step)\n",
    "\n",
    "        if trial.should_prune():\n",
    "            raise optuna.TrialPruned()\n",
    "\n",
    "    return clf.score(X_valid, y_valid)"
   ]
  },
  {
   "cell_type": "code",
   "execution_count": null,
   "id": "ac292e27",
   "metadata": {},
   "outputs": [],
   "source": [
    "\n",
    "\n",
    "# Run the optimization, enabling early stopping for poor-performing trials\n",
    "study_prunned.optimize(objective, n_trials=100)\n",
    "\n",
    "# Print the results from the study with pruning\n",
    "print(\"\\nResults from Optimization with pruning:\")\n",
    "print(f\"  Best Accuracy: {study_prunned.best_value:.4f}\")\n",
    "print(f\"  Best Parameters: {study_prunned.best_params}\")"
   ]
  },
  {
   "cell_type": "code",
   "execution_count": null,
   "id": "5ee74768",
   "metadata": {},
   "outputs": [],
   "source": [
    "# Calculate and display the parameter importance from the optimized study\n",
    "optuna.importance.get_param_importances(study_tpe)"
   ]
  },
  {
   "cell_type": "code",
   "execution_count": null,
   "id": "e8ac302a",
   "metadata": {},
   "outputs": [],
   "source": [
    "# Import plotly for visualisation\n",
    "from plotly.io import show\n",
    "\n",
    "# Plot the parameter relationship as contour plot in a study.\n",
    "contour_tpe = optuna.visualization.plot_contour(study_tpe, params=[\"kernel\", \"C\"])\n",
    "show(contour_tpe)\n",
    "\n",
    "# Plot optimization history of all trials in a study.\n",
    "history_tpe = optuna.visualization.plot_optimization_history(study_tpe)\n",
    "show(history_tpe)\n",
    "\n",
    "# Plot the high-dimensional parameter relationships in a study.\n",
    "parallel_tpe = optuna.visualization.plot_parallel_coordinate(study_tpe)\n",
    "show(parallel_tpe)"
   ]
  },
  {
   "cell_type": "code",
   "execution_count": null,
   "id": "2da353e2",
   "metadata": {},
   "outputs": [],
   "source": []
  }
 ],
 "metadata": {
  "kernelspec": {
   "display_name": "2025Z-AutoML",
   "language": "python",
   "name": "python3"
  },
  "language_info": {
   "codemirror_mode": {
    "name": "ipython",
    "version": 3
   },
   "file_extension": ".py",
   "mimetype": "text/x-python",
   "name": "python",
   "nbconvert_exporter": "python",
   "pygments_lexer": "ipython3",
   "version": "3.11.10"
  }
 },
 "nbformat": 4,
 "nbformat_minor": 5
}
